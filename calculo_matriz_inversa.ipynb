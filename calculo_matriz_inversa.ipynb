{
 "cells": [
  {
   "cell_type": "markdown",
   "metadata": {},
   "source": [
    "### Cálculo de la matriz inversa"
   ]
  },
  {
   "cell_type": "markdown",
   "metadata": {},
   "source": [
    "$$ A^{-1} = \\frac{1}{\\left|A \\right|} \\cdot \\mathbf{adj}\\left(A \\right)^T $$"
   ]
  },
  {
   "cell_type": "markdown",
   "metadata": {},
   "source": [
    "#### Cálculo de la matriz adjunta \n",
    "\n",
    "\n",
    "$$ \\mathbf{adj}\\left(A_{2 \\times 2} \\right) = \\begin{pmatrix} a_{22} & -a_{21} \\\\ -a_{22} & a_{11} \\end{pmatrix} $$\n",
    "\n",
    "\n",
    "$$ \\mathbf{adj}\\left(A_{3 \\times 3} \\right) = \\begin{pmatrix}\n",
    "            +\n",
    "            \\begin{vmatrix}\n",
    "                a_{22} & a_{23} \\\\\n",
    "                a_{32} & a_{33}\n",
    "            \\end{vmatrix} &\n",
    "            -\n",
    "            \\begin{vmatrix}\n",
    "                a_{12} & a_{13} \\\\\n",
    "                a_{32} & a_{33}\n",
    "            \\end{vmatrix} &\n",
    "            +\n",
    "            \\begin{vmatrix}\n",
    "                a_{12} & a_{13} \\\\\n",
    "                a_{22} & a_{23} \\\\\n",
    "            \\end{vmatrix} \\\\[1.5em]\n",
    "            -\n",
    "            \\begin{vmatrix}\n",
    "                a_{21} & a_{23} \\\\\n",
    "                a_{31} & a_{33}\n",
    "            \\end{vmatrix} &\n",
    "            +\n",
    "            \\begin{vmatrix}\n",
    "                a_{11} & a_{13} \\\\\n",
    "                a_{31} & a_{33}\n",
    "            \\end{vmatrix}&\n",
    "            -\n",
    "            \\begin{vmatrix}\n",
    "                a_{11} &  a_{13} \\\\\n",
    "                a_{21} &  a_{23}\n",
    "            \\end{vmatrix} \\\\[1.5em]\n",
    "            +\n",
    "            \\begin{vmatrix}\n",
    "                a_{21} & a_{22} \\\\\n",
    "                a_{31} & a_{32}\n",
    "            \\end{vmatrix} &\n",
    "            -\n",
    "            \\begin{vmatrix}\n",
    "            a_{11} & a_{12} \\\\\n",
    "            a_{21} & a_{22}\n",
    "            \\end{vmatrix} &\n",
    "            +\n",
    "            \\begin{vmatrix}\n",
    "                a_{11} & a_{12} \\\\\n",
    "                a_{21} & a_{22}\n",
    "            \\end{vmatrix}\n",
    "        \\end{pmatrix} $$\n",
    "\n"
   ]
  },
  {
   "cell_type": "markdown",
   "metadata": {},
   "source": [
    "#### Programación de la matriz adjunta de una matriz 2x2"
   ]
  },
  {
   "cell_type": "code",
   "execution_count": 1,
   "metadata": {},
   "outputs": [],
   "source": [
    "import numpy as np "
   ]
  },
  {
   "cell_type": "code",
   "execution_count": 2,
   "metadata": {},
   "outputs": [],
   "source": [
    "def adjunta_2x2(M):\n",
    "\n",
    "    A = np.array([[M[1,1],-M[1,0]],\n",
    "                    [-M[0,1],M[0,0]]])\n",
    "    return A \n"
   ]
  },
  {
   "cell_type": "code",
   "execution_count": 3,
   "metadata": {},
   "outputs": [],
   "source": [
    "A = np.array([[1,-1],[2,3]])"
   ]
  },
  {
   "cell_type": "code",
   "execution_count": 4,
   "metadata": {},
   "outputs": [
    {
     "data": {
      "text/plain": [
       "array([[ 3, -2],\n",
       "       [ 1,  1]])"
      ]
     },
     "execution_count": 4,
     "metadata": {},
     "output_type": "execute_result"
    }
   ],
   "source": [
    "adjunta_2x2(A)"
   ]
  },
  {
   "cell_type": "markdown",
   "metadata": {},
   "source": [
    "### Programación de la adjunta de una matriz de N x N"
   ]
  },
  {
   "cell_type": "code",
   "execution_count": 18,
   "metadata": {},
   "outputs": [],
   "source": [
    "\n",
    "def quitar_linea(index,M):\n",
    "    \"\"\"Función que elimina la fila y la columna según el índice indicado\n",
    "    \"\"\"\n",
    "    m=[] #Submatriz \n",
    "    M = list(M) #Convertimos en lista el array de entrada M\n",
    "    for i in range(len(M)):\n",
    "        hh=[]\n",
    "        for j in range(len(M)):\n",
    "            if(i==index[0] or j==index[1]): #Si el indice no es el que hemos pasado apendizamos\n",
    "                pass\n",
    "            else:\n",
    "                hh.append(M[i][j])\n",
    "        if(hh!=[]):\n",
    "            m.append(hh)\n",
    "    return np.array(m)\n",
    "\n",
    "\n"
   ]
  },
  {
   "cell_type": "code",
   "execution_count": 19,
   "metadata": {},
   "outputs": [
    {
     "data": {
      "text/plain": [
       "array([[3, 4, 5],\n",
       "       [3, 6, 7],\n",
       "       [1, 2, 6]])"
      ]
     },
     "execution_count": 19,
     "metadata": {},
     "output_type": "execute_result"
    }
   ],
   "source": [
    "P = np.array([[3,4,5],[3,6,7],[1,2,6]])\n",
    "P"
   ]
  },
  {
   "cell_type": "code",
   "execution_count": 22,
   "metadata": {},
   "outputs": [
    {
     "data": {
      "text/plain": [
       "array([[3, 5],\n",
       "       [1, 6]])"
      ]
     },
     "execution_count": 22,
     "metadata": {},
     "output_type": "execute_result"
    }
   ],
   "source": [
    "quitar_linea([1,1],P)"
   ]
  },
  {
   "cell_type": "code",
   "execution_count": 29,
   "metadata": {},
   "outputs": [],
   "source": [
    "def adjunta_NxN(M):\n",
    "    \"\"\"Función que cálcula la matriz adjunta de M\n",
    "    \"\"\"\n",
    "    Adj = np.zeros_like(M) #Matriz de ceros con forma de M\n",
    "\n",
    "    for i in range(len(M)):\n",
    "        for j in range(len(M)):\n",
    "            m = quitar_linea([i,j],M)\n",
    "            Adj[i,j] = np.linalg.det(m)*(-1)**(i+j) #Determinante de la submatriz multiplicado por -1 o 1 \n",
    "    return Adj\n",
    "\n"
   ]
  },
  {
   "cell_type": "code",
   "execution_count": 27,
   "metadata": {},
   "outputs": [
    {
     "data": {
      "text/plain": [
       "array([[3, 4, 5],\n",
       "       [3, 6, 7],\n",
       "       [1, 2, 6]])"
      ]
     },
     "execution_count": 27,
     "metadata": {},
     "output_type": "execute_result"
    }
   ],
   "source": [
    "P"
   ]
  },
  {
   "cell_type": "code",
   "execution_count": 33,
   "metadata": {},
   "outputs": [
    {
     "data": {
      "text/plain": [
       "array([[ 22, -11,   0],\n",
       "       [-14,  13,  -2],\n",
       "       [ -2,  -6,   6]])"
      ]
     },
     "execution_count": 33,
     "metadata": {},
     "output_type": "execute_result"
    }
   ],
   "source": [
    "adjunta_NxN(P)"
   ]
  },
  {
   "cell_type": "markdown",
   "metadata": {},
   "source": [
    "### Programación de la inversa de una matriz N x N"
   ]
  },
  {
   "cell_type": "code",
   "execution_count": 44,
   "metadata": {},
   "outputs": [],
   "source": [
    "def invertir_matriz(M):\n",
    "    assert (np.linalg.det(M)!=0),\"El determinante de la matriz es nulo\"\n",
    "    Inv = 1/np.linalg.det(M)*adjunta_NxN(M).T #Fórmula para calcular la inversa\n",
    "    return Inv\n",
    "    \n",
    "    \n",
    "        "
   ]
  },
  {
   "cell_type": "code",
   "execution_count": 36,
   "metadata": {},
   "outputs": [
    {
     "data": {
      "text/plain": [
       "array([[3, 4, 5],\n",
       "       [3, 6, 7],\n",
       "       [1, 2, 6]])"
      ]
     },
     "execution_count": 36,
     "metadata": {},
     "output_type": "execute_result"
    }
   ],
   "source": [
    "P"
   ]
  },
  {
   "cell_type": "code",
   "execution_count": 45,
   "metadata": {},
   "outputs": [
    {
     "data": {
      "text/plain": [
       "array([[ 1.        , -0.63636364, -0.09090909],\n",
       "       [-0.5       ,  0.59090909, -0.27272727],\n",
       "       [ 0.        , -0.09090909,  0.27272727]])"
      ]
     },
     "execution_count": 45,
     "metadata": {},
     "output_type": "execute_result"
    }
   ],
   "source": [
    "invertir_matriz(P)"
   ]
  },
  {
   "cell_type": "code",
   "execution_count": 46,
   "metadata": {},
   "outputs": [
    {
     "data": {
      "text/plain": [
       "array([[ 1.00000000e+00, -6.36363636e-01, -9.09090909e-02],\n",
       "       [-5.00000000e-01,  5.90909091e-01, -2.72727273e-01],\n",
       "       [ 1.51394049e-17, -9.09090909e-02,  2.72727273e-01]])"
      ]
     },
     "execution_count": 46,
     "metadata": {},
     "output_type": "execute_result"
    }
   ],
   "source": [
    "np.linalg.inv(P)"
   ]
  },
  {
   "cell_type": "code",
   "execution_count": 52,
   "metadata": {},
   "outputs": [
    {
     "data": {
      "text/plain": [
       "array([[ 0,  0],\n",
       "       [-1,  3]])"
      ]
     },
     "execution_count": 52,
     "metadata": {},
     "output_type": "execute_result"
    }
   ],
   "source": [
    "Merror = np.array([[0,0],[-1,3]])\n",
    "Merror\n"
   ]
  },
  {
   "cell_type": "code",
   "execution_count": 53,
   "metadata": {},
   "outputs": [
    {
     "ename": "AssertionError",
     "evalue": "El determinante de la matriz es nulo",
     "output_type": "error",
     "traceback": [
      "\u001b[1;31m---------------------------------------------------------------------------\u001b[0m",
      "\u001b[1;31mAssertionError\u001b[0m                            Traceback (most recent call last)",
      "\u001b[1;32m<ipython-input-53-ed712c3bb075>\u001b[0m in \u001b[0;36m<module>\u001b[1;34m\u001b[0m\n\u001b[1;32m----> 1\u001b[1;33m \u001b[0minvertir_matriz\u001b[0m\u001b[1;33m(\u001b[0m\u001b[0mMerror\u001b[0m\u001b[1;33m)\u001b[0m\u001b[1;33m\u001b[0m\u001b[1;33m\u001b[0m\u001b[0m\n\u001b[0m",
      "\u001b[1;32m<ipython-input-44-a01ef7c5709d>\u001b[0m in \u001b[0;36minvertir_matriz\u001b[1;34m(M)\u001b[0m\n\u001b[0;32m      1\u001b[0m \u001b[1;32mdef\u001b[0m \u001b[0minvertir_matriz\u001b[0m\u001b[1;33m(\u001b[0m\u001b[0mM\u001b[0m\u001b[1;33m)\u001b[0m\u001b[1;33m:\u001b[0m\u001b[1;33m\u001b[0m\u001b[1;33m\u001b[0m\u001b[0m\n\u001b[1;32m----> 2\u001b[1;33m     \u001b[1;32massert\u001b[0m \u001b[1;33m(\u001b[0m\u001b[0mnp\u001b[0m\u001b[1;33m.\u001b[0m\u001b[0mlinalg\u001b[0m\u001b[1;33m.\u001b[0m\u001b[0mdet\u001b[0m\u001b[1;33m(\u001b[0m\u001b[0mM\u001b[0m\u001b[1;33m)\u001b[0m\u001b[1;33m!=\u001b[0m\u001b[1;36m0\u001b[0m\u001b[1;33m)\u001b[0m\u001b[1;33m,\u001b[0m\u001b[1;34m\"El determinante de la matriz es nulo\"\u001b[0m\u001b[1;33m\u001b[0m\u001b[1;33m\u001b[0m\u001b[0m\n\u001b[0m\u001b[0;32m      3\u001b[0m     \u001b[0mInv\u001b[0m \u001b[1;33m=\u001b[0m \u001b[1;36m1\u001b[0m\u001b[1;33m/\u001b[0m\u001b[0mnp\u001b[0m\u001b[1;33m.\u001b[0m\u001b[0mlinalg\u001b[0m\u001b[1;33m.\u001b[0m\u001b[0mdet\u001b[0m\u001b[1;33m(\u001b[0m\u001b[0mM\u001b[0m\u001b[1;33m)\u001b[0m\u001b[1;33m*\u001b[0m\u001b[0madjunta_NxN\u001b[0m\u001b[1;33m(\u001b[0m\u001b[0mM\u001b[0m\u001b[1;33m)\u001b[0m\u001b[1;33m.\u001b[0m\u001b[0mT\u001b[0m \u001b[1;31m#Fórmula para calcular la inversa\u001b[0m\u001b[1;33m\u001b[0m\u001b[1;33m\u001b[0m\u001b[0m\n\u001b[0;32m      4\u001b[0m     \u001b[1;32mreturn\u001b[0m \u001b[0mInv\u001b[0m\u001b[1;33m\u001b[0m\u001b[1;33m\u001b[0m\u001b[0m\n\u001b[0;32m      5\u001b[0m \u001b[1;33m\u001b[0m\u001b[0m\n",
      "\u001b[1;31mAssertionError\u001b[0m: El determinante de la matriz es nulo"
     ]
    }
   ],
   "source": [
    "invertir_matriz(Merror)"
   ]
  }
 ],
 "metadata": {
  "interpreter": {
   "hash": "fd7365b5a03fb9cd75fcd4064ad6590126bc283fb61d286041e47ce5e1186cdb"
  },
  "kernelspec": {
   "display_name": "Python 3.7.6 ('base')",
   "language": "python",
   "name": "python3"
  },
  "language_info": {
   "codemirror_mode": {
    "name": "ipython",
    "version": 3
   },
   "file_extension": ".py",
   "mimetype": "text/x-python",
   "name": "python",
   "nbconvert_exporter": "python",
   "pygments_lexer": "ipython3",
   "version": "3.7.6"
  },
  "orig_nbformat": 4
 },
 "nbformat": 4,
 "nbformat_minor": 2
}
