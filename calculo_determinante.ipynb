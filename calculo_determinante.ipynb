{
 "cells": [
  {
   "cell_type": "markdown",
   "metadata": {},
   "source": [
    "# Cálculo del determinante de una matriz "
   ]
  },
  {
   "cell_type": "code",
   "execution_count": 2,
   "metadata": {},
   "outputs": [],
   "source": [
    "import numpy as np"
   ]
  },
  {
   "cell_type": "code",
   "execution_count": 1,
   "metadata": {},
   "outputs": [],
   "source": [
    "from numpy.linalg import det"
   ]
  },
  {
   "cell_type": "markdown",
   "metadata": {},
   "source": [
    "### Determinante de una matriz 2x2 \n",
    "$$ A = \\begin{pmatrix} \n",
    "    a_{00} & a_{01} \\\\\n",
    "    a_{10} & a_{11}\n",
    "\\end{pmatrix}\n",
    "$$\n",
    "$$ |A| = a_{00} a_{11}-a_{01} a_{10} $$"
   ]
  },
  {
   "cell_type": "code",
   "execution_count": 15,
   "metadata": {},
   "outputs": [],
   "source": [
    "def det_2x2(M):\n",
    "    \"\"\" Devuelve el determinante de una matriz 2x2\n",
    "    \"\"\"\n",
    "    if M.shape ==(2,2):\n",
    "        D = M[0,0]*M[1,1]-M[0,1]*M[1,0]\n",
    "        return D\n",
    "    else:\n",
    "        return \"Error: La matriz no es de rango 2x2\"\n"
   ]
  },
  {
   "cell_type": "code",
   "execution_count": 18,
   "metadata": {},
   "outputs": [
    {
     "data": {
      "text/plain": [
       "array([[1, 2],\n",
       "       [3, 4]])"
      ]
     },
     "execution_count": 18,
     "metadata": {},
     "output_type": "execute_result"
    }
   ],
   "source": [
    "A = np.array([[1,2],[3,4]])\n",
    "A"
   ]
  },
  {
   "cell_type": "code",
   "execution_count": 22,
   "metadata": {},
   "outputs": [
    {
     "data": {
      "text/plain": [
       "-2"
      ]
     },
     "execution_count": 22,
     "metadata": {},
     "output_type": "execute_result"
    }
   ],
   "source": [
    "det_2x2(A) #Nuestra función"
   ]
  },
  {
   "cell_type": "code",
   "execution_count": 21,
   "metadata": {},
   "outputs": [
    {
     "data": {
      "text/plain": [
       "-2.0000000000000004"
      ]
     },
     "execution_count": 21,
     "metadata": {},
     "output_type": "execute_result"
    }
   ],
   "source": [
    "det(A) # Función de numpy"
   ]
  },
  {
   "cell_type": "markdown",
   "metadata": {},
   "source": [
    "### Determinante de una matriz 3x3\n",
    "\n",
    "$$ A = \\begin{pmatrix}\n",
    "    a_{00} & a_{01} & a_{02} \\\\\n",
    "    a_{10} & a_{11} & a_{12} \\\\\n",
    "    a_{20} & a_{21} & a_{22} \n",
    "\n",
    "\n",
    "\\end{pmatrix}\n",
    "$$\n",
    "\n",
    "$$ |A| = a_{00} \\left|\\begin{smallmatrix} a_{11} & a_{12} \\\\ a_{21} & a_{22} \\end{smallmatrix}\\right| \n",
    "-a_{01} \\left|\\begin{smallmatrix} a_{10} & a_{12} \\\\ a_{20} & a_{22} \\end{smallmatrix}\\right| +\n",
    "a_{02} \\left|\\begin{smallmatrix} a_{10} & a_{11} \\\\ a_{20} & a_{21} \\end{smallmatrix}\\right|  $$"
   ]
  },
  {
   "cell_type": "code",
   "execution_count": 25,
   "metadata": {},
   "outputs": [
    {
     "data": {
      "text/plain": [
       "array([[ 2,  3,  1],\n",
       "       [ 3, -1,  3],\n",
       "       [ 4, -7,  2]])"
      ]
     },
     "execution_count": 25,
     "metadata": {},
     "output_type": "execute_result"
    }
   ],
   "source": [
    "B = np.array([[2,3,1],\n",
    "            [3,-1,3],\n",
    "            [4,-7,2]])\n",
    "B"
   ]
  },
  {
   "cell_type": "code",
   "execution_count": 30,
   "metadata": {},
   "outputs": [],
   "source": [
    "def det_3x3(M):\n",
    "    \"\"\"Funcíon que calcula el determinante de una matriz 3 x 3\n",
    "    \"\"\"\n",
    "    if M.shape == (3,3):\n",
    "        D = M[0,0]*det_2x2(M[1:,1:])-M[0,1]*det_2x2(M[1:,::2])+M[0,2]*det_2x2(M[1:,:2])\n",
    "        return D\n",
    "    else:\n",
    "        return \"Error: No es una matriz de 3x3\""
   ]
  },
  {
   "cell_type": "code",
   "execution_count": 31,
   "metadata": {},
   "outputs": [
    {
     "data": {
      "text/plain": [
       "39"
      ]
     },
     "execution_count": 31,
     "metadata": {},
     "output_type": "execute_result"
    }
   ],
   "source": [
    "det_3x3(B) # Nuestra función"
   ]
  },
  {
   "cell_type": "code",
   "execution_count": 34,
   "metadata": {},
   "outputs": [
    {
     "data": {
      "text/plain": [
       "38.99999999999999"
      ]
     },
     "execution_count": 34,
     "metadata": {},
     "output_type": "execute_result"
    }
   ],
   "source": [
    "det(B) # función de Numpy"
   ]
  }
 ],
 "metadata": {
  "interpreter": {
   "hash": "fd7365b5a03fb9cd75fcd4064ad6590126bc283fb61d286041e47ce5e1186cdb"
  },
  "kernelspec": {
   "display_name": "Python 3.7.6 ('base')",
   "language": "python",
   "name": "python3"
  },
  "language_info": {
   "codemirror_mode": {
    "name": "ipython",
    "version": 3
   },
   "file_extension": ".py",
   "mimetype": "text/x-python",
   "name": "python",
   "nbconvert_exporter": "python",
   "pygments_lexer": "ipython3",
   "version": "3.7.6"
  },
  "orig_nbformat": 4
 },
 "nbformat": 4,
 "nbformat_minor": 2
}
